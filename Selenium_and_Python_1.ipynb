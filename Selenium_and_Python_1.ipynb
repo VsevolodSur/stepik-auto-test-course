{
 "cells": [
  {
   "cell_type": "code",
   "execution_count": 2,
   "metadata": {},
   "outputs": [
    {
     "name": "stdout",
     "output_type": "stream",
     "text": [
      "723128532146\n"
     ]
    }
   ],
   "source": [
    "import math\n",
    "fun = lambda x : 1 if x == 1 else math.ceil(math.sinh(fun (x-1)))\n",
    "print(fun(5))"
   ]
  },
  {
   "cell_type": "code",
   "execution_count": 4,
   "metadata": {},
   "outputs": [],
   "source": [
    "from selenium import webdriver\n",
    "from selenium.webdriver.common.by import By\n",
    "\n",
    "link = \"http://suninjuly.github.io/simple_form_find_task.html\"\n",
    "\n",
    "try:\n",
    "    browser = webdriver.Chrome()\n",
    "    browser.get(link)\n",
    "    button = browser.find_element(By.ID, \"submit_button\")\n",
    "    button.click()\n",
    "\n",
    "finally:\n",
    "    # закрываем браузер после всех манипуляций\n",
    "    browser.quit()"
   ]
  },
  {
   "cell_type": "code",
   "execution_count": 6,
   "metadata": {},
   "outputs": [],
   "source": [
    "from selenium import webdriver\n",
    "import time \n",
    "\n",
    "link = \"http://suninjuly.github.io/simple_form_find_task.html\"\n",
    "\n",
    "try:\n",
    "    browser = webdriver.Chrome()\n",
    "    browser.get(link)\n",
    "\n",
    "    input1 = browser.find_element_by_tag_name(\"input\")\n",
    "    input1.send_keys(\"Ivan\")\n",
    "    input2 = browser.find_element_by_name(\"last_name\")\n",
    "    input2.send_keys(\"Petrov\")\n",
    "    input3 = browser.find_element_by_class_name(\"city\")\n",
    "    input3.send_keys(\"Smolensk\")\n",
    "    input4 = browser.find_element_by_id(\"country\")\n",
    "    input4.send_keys(\"Russia\")\n",
    "    button = browser.find_element_by_css_selector(\"button.btn\")\n",
    "    button.click()\n",
    "\n",
    "finally:\n",
    "    # успеваем скопировать код за 30 секунд\n",
    "    time.sleep(30)\n",
    "    # закрываем браузер после всех манипуляций\n",
    "    browser.quit()\n",
    "\n",
    "# не забываем оставить пустую строку в конце файла"
   ]
  },
  {
   "cell_type": "code",
   "execution_count": 7,
   "metadata": {},
   "outputs": [],
   "source": [
    "from selenium import webdriver\n",
    "import time \n",
    "\n",
    "link = \"http://suninjuly.github.io/find_link_text\"\n",
    "\n",
    "try:\n",
    "    browser = webdriver.Chrome()\n",
    "    browser.get(link)\n",
    "    ll = str(math.ceil(math.pow(math.pi, math.e)*10000))\n",
    "    link = browser.find_element_by_partial_link_text(ll)\n",
    "    link.click()\n",
    "\n",
    "    input1 = browser.find_element_by_tag_name(\"input\")\n",
    "    input1.send_keys(\"Ivan\")\n",
    "    input2 = browser.find_element_by_name(\"last_name\")\n",
    "    input2.send_keys(\"Petrov\")\n",
    "    input3 = browser.find_element_by_class_name(\"city\")\n",
    "    input3.send_keys(\"Smolensk\")\n",
    "    input4 = browser.find_element_by_id(\"country\")\n",
    "    input4.send_keys(\"Russia\")\n",
    "    button = browser.find_element_by_css_selector(\"button.btn\")\n",
    "    button.click()\n",
    "\n",
    "finally:\n",
    "    # успеваем скопировать код за 30 секунд\n",
    "    time.sleep(30)\n",
    "    # закрываем браузер после всех манипуляций\n",
    "    browser.quit()\n",
    "\n"
   ]
  },
  {
   "cell_type": "code",
   "execution_count": 9,
   "metadata": {},
   "outputs": [],
   "source": [
    "from selenium import webdriver\n",
    "import time\n",
    "\n",
    "try:\n",
    "    browser = webdriver.Chrome()\n",
    "    browser.get(\"http://suninjuly.github.io/huge_form.html\")\n",
    "    elements = browser.find_elements_by_tag_name(\"input\")\n",
    "    for element in elements:\n",
    "        element.send_keys(\"Плюх!!!\")\n",
    "\n",
    "    button = browser.find_element_by_css_selector(\"button.btn\")\n",
    "    button.click()\n",
    "\n",
    "finally:\n",
    "    # успеваем скопировать код за 30 секунд\n",
    "    time.sleep(30)\n",
    "    # закрываем браузер после всех манипуляций\n",
    "    browser.quit()\n"
   ]
  },
  {
   "cell_type": "code",
   "execution_count": 13,
   "metadata": {},
   "outputs": [],
   "source": [
    "from selenium import webdriver\n",
    "import time \n",
    "\n",
    "link = \"http://suninjuly.github.io/find_xpath_form\"\n",
    "\n",
    "try:\n",
    "    browser = webdriver.Chrome()\n",
    "    browser.get(link)\n",
    "\n",
    "    input1 = browser.find_element_by_tag_name(\"input\")\n",
    "    input1.send_keys(\"Ivan\")\n",
    "    input2 = browser.find_element_by_name(\"last_name\")\n",
    "    input2.send_keys(\"Petrov\")\n",
    "    input3 = browser.find_element_by_class_name(\"city\")\n",
    "    input3.send_keys(\"Smolensk\")\n",
    "    input4 = browser.find_element_by_id(\"country\")\n",
    "    input4.send_keys(\"Russia\")\n",
    "    button = browser.find_element_by_xpath('//button[@type=\"submit\"]')\n",
    "    button.click()\n",
    "\n",
    "finally:\n",
    "    # успеваем скопировать код за 30 секунд\n",
    "    time.sleep(30)\n",
    "    # закрываем браузер после всех манипуляций\n",
    "    browser.quit()\n"
   ]
  },
  {
   "cell_type": "code",
   "execution_count": null,
   "metadata": {},
   "outputs": [],
   "source": []
  }
 ],
 "metadata": {
  "kernelspec": {
   "display_name": "Python 3",
   "language": "python",
   "name": "python3"
  },
  "language_info": {
   "codemirror_mode": {
    "name": "ipython",
    "version": 3
   },
   "file_extension": ".py",
   "mimetype": "text/x-python",
   "name": "python",
   "nbconvert_exporter": "python",
   "pygments_lexer": "ipython3",
   "version": "3.7.3"
  }
 },
 "nbformat": 4,
 "nbformat_minor": 2
}
